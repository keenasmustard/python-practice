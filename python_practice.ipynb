{
  "nbformat": 4,
  "nbformat_minor": 0,
  "metadata": {
    "colab": {
      "name": "python practice",
      "private_outputs": true,
      "provenance": [],
      "authorship_tag": "ABX9TyOg8J9Irdr6sFCX8ZOsJQMc",
      "include_colab_link": true
    },
    "kernelspec": {
      "name": "python3",
      "display_name": "Python 3"
    },
    "language_info": {
      "name": "python"
    }
  },
  "cells": [
    {
      "cell_type": "markdown",
      "metadata": {
        "id": "view-in-github",
        "colab_type": "text"
      },
      "source": [
        "<a href=\"https://colab.research.google.com/github/keenasmustard/python-practice/blob/main/python_practice.ipynb\" target=\"_parent\"><img src=\"https://colab.research.google.com/assets/colab-badge.svg\" alt=\"Open In Colab\"/></a>"
      ]
    },
    {
      "cell_type": "code",
      "source": [
        "# 2-5 그냥 수식 그대로 순서 따라서\n",
        "x = 16\n",
        "8*x**2 - 2*x + 2"
      ],
      "metadata": {
        "id": "gUiJaNMaecHM"
      },
      "execution_count": null,
      "outputs": []
    },
    {
      "cell_type": "code",
      "source": [
        "# 2-6\n",
        "x,y = 4,8\n",
        "print(x)\n",
        "x *= y\n",
        "print(x)\n",
        "x -= y\n",
        "print(x)"
      ],
      "metadata": {
        "id": "Yh5AbY5Eeb7i"
      },
      "execution_count": null,
      "outputs": []
    },
    {
      "cell_type": "code",
      "source": [
        "#2-7\n",
        "x = 2\n",
        "print(x)\n",
        "x *= 2\n",
        "print(x)\n",
        "x *= 2\n",
        "print(x)\n",
        "x *= 2\n",
        "print(x) \n",
        "x *= 2\n",
        "print(x)"
      ],
      "metadata": {
        "id": "yJZAJX0ZebwZ"
      },
      "execution_count": null,
      "outputs": []
    },
    {
      "cell_type": "code",
      "source": [
        "#2-8 재료 별 그램당 칼로리를 먼저 계산해두고 해보자\n",
        "flour_per_g = 364/100\n",
        "piment_per_g = 20.1/100\n",
        "olive_per_g = 115/100\n",
        "pork_per_g = 242.1/100\n",
        "cheese_per_g = 402.5/100\n",
        "\n",
        "whole_pizza = 200*flour_per_g + 30*piment_per_g + 10*olive_per_g + 80*pork_per_g + 20*cheese_per_g\n",
        "\n",
        "print(whole_pizza/6)\n"
      ],
      "metadata": {
        "id": "UeB80Tebebgq"
      },
      "execution_count": null,
      "outputs": []
    },
    {
      "cell_type": "code",
      "source": [
        "#2-9\n",
        "print(\"첫 번째 정수를 입력하세요\")\n",
        "number1 = int(input())\n",
        "print(\"두 번째 정수를 입력하세요\")\n",
        "number2 = int(input())\n",
        "print()\n",
        "print(number1,\"+\",number2,\"=\",number1+number2)\n",
        "print(number1,\"-\",number2,\"=\",number1-number2)\n",
        "print(number1,\"*\",number2,\"=\",number1*number2)\n",
        "print(number1,\"/\",number2,\"=\",number1/number2)"
      ],
      "metadata": {
        "id": "pG-ZBQYMgpoB"
      },
      "execution_count": null,
      "outputs": []
    },
    {
      "cell_type": "code",
      "source": [
        "#3-2\n",
        "def print_absolute():\n",
        "    print(\"정수를 입력하세요.\")\n",
        "    number = int(input())\n",
        "    print(number,'의 절댓값:', abs(number))\n",
        "\n",
        "print_absolute()\n"
      ],
      "metadata": {
        "id": "6g5c9RyNlu6H"
      },
      "execution_count": null,
      "outputs": []
    },
    {
      "cell_type": "code",
      "source": [
        "#3-3\n",
        "def print_absolute():\n",
        "    \"\"\"사용자로부터 정수를 입력받아 그 수의 절댓값을 화면에 출력.\"\"\"\n",
        "    print('정수를 입력하세요')\n",
        "    number = int(input())\n",
        "    print(number,'의 절댓값:', abs(number))\n",
        "\n",
        "print_absolute()\n",
        "\n",
        "?print_absolute()"
      ],
      "metadata": {
        "id": "_ox7mx8hlu8h"
      },
      "execution_count": null,
      "outputs": []
    },
    {
      "cell_type": "code",
      "source": [
        "#3-4\n",
        "def print_plus1():\n",
        "    \"\"\"두 수를 전달받아 그 합계를 화면에 출력\"\"\"\n",
        "    num1 = float(input())\n",
        "    num2 = float(input())\n",
        "    print(num1+num2)\n",
        "\n",
        "print_plus1()\n",
        "\n",
        "def print_plus2(num_a,num_b):\n",
        "    print(num_a+num_b)\n",
        "\n",
        "print_plus2(100,50)\n",
        "\n"
      ],
      "metadata": {
        "id": "jNDoprnolu-s"
      },
      "execution_count": null,
      "outputs": []
    },
    {
      "cell_type": "code",
      "source": [
        "#3-5\n",
        "def average_of_4_numbers(num1,num2,num3,num4):\n",
        "    \"\"\"네 개의 수를 매개변수로 입력받아 평균을 계산해 반환\"\"\"\n",
        "    return (num1+num2+num3+num4)/4\n",
        "\n",
        "print(average_of_4_numbers(512,64,256,192))"
      ],
      "metadata": {
        "id": "HHs-sJWJlvAm"
      },
      "execution_count": null,
      "outputs": []
    },
    {
      "cell_type": "code",
      "source": [
        "#3-6\n",
        "def no_return():\n",
        "    \"\"\"화면에 메시지를 출력하지만, 값을 반환하지는 않는다.\"\"\"\n",
        "    print('이 함수에는 반환값이 없습니다')\n",
        "    \n",
        "result = no_return()\n",
        "print(result)\n"
      ],
      "metadata": {
        "id": "150NJGGqlvCV"
      },
      "execution_count": null,
      "outputs": []
    },
    {
      "cell_type": "code",
      "source": [
        "#3-7\n",
        "def width_of_triangle1():\n",
        "    \"\"\"밑변과 높이의 값을 직접 입력받아 삼각형 넓이 반환\"\"\"\n",
        "    num1 = float(input())\n",
        "    num2 = float(input())\n",
        "    return num1*num2/2\n",
        "\n",
        "width_of_triangle1()"
      ],
      "metadata": {
        "id": "l0GHEkM9lvE3"
      },
      "execution_count": null,
      "outputs": []
    },
    {
      "cell_type": "code",
      "source": [
        "#3-7\n",
        "def width_of_triangle2(num1,num2):\n",
        "    \"\"\"밑변과 높이를 매개변수로 받아 삼각형 넓이 반환\"\"\"\n",
        "    return num1*num2/2\n",
        "\n",
        "width_of_triangle2(10,8)"
      ],
      "metadata": {
        "id": "_aOV7wxqlvG7"
      },
      "execution_count": null,
      "outputs": []
    },
    {
      "cell_type": "code",
      "source": [
        "#3-9\n",
        "print('주문하실 음료:', end ='')\n",
        "drink = input()\n",
        "print('주문하실 간식:', end='')\n",
        "snack = input()\n",
        "print(drink, snack, '주문 받았습니다')\n",
        "\n",
        "\n",
        "\n",
        "\n"
      ],
      "metadata": {
        "id": "ZFhGsqf60LNh"
      },
      "execution_count": null,
      "outputs": []
    },
    {
      "cell_type": "code",
      "source": [
        "lambda x : x+1"
      ],
      "metadata": {
        "id": "wu3qlj8E0LGp"
      },
      "execution_count": null,
      "outputs": []
    },
    {
      "cell_type": "code",
      "source": [
        ""
      ],
      "metadata": {
        "id": "HGcGXGFq0K-y"
      },
      "execution_count": null,
      "outputs": []
    }
  ]
}